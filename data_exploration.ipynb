{
 "cells": [
  {
   "cell_type": "markdown",
   "metadata": {},
   "source": [
    "# Resume NER\n",
    "## Extract Information from Resumes using NER (Named Entity Recognition)"
   ]
  },
  {
   "cell_type": "markdown",
   "metadata": {},
   "source": [
    "### Part 1 - Data Exploration and preprocessing\n",
    "In this first part of the challenge, we will load and examine the dataset we will be working with. We will also prepare the data for training which we will start in the second part of the challenge. You will be required to program some basic python pertaining to file loading, data conversion, and basic dictionaries and array manipulation. If you are experienced with Python, this will be easy. If you are new to python and/or programming, it will be a good opportunity to learn some basic programming you will need for data loading and exploration.\n",
    "\n",
    "* *If you need help setting up python or running this notebook, please get help from the  assistants to the professor*\n",
    "* *It might be helpful to try your code out first in a python ide like pycharm before copying it an running it here in this notebook*  "
   ]
  },
  {
   "cell_type": "markdown",
   "metadata": {},
   "source": [
    "#### Load the Dataset\n",
    "The dataset we will be using is located in the dataset folder included in the project. Verify the data is available by executing the code cell below "
   ]
  },
  {
   "cell_type": "code",
   "execution_count": 9,
   "metadata": {},
   "outputs": [
    {
     "name": "stdout",
     "output_type": "stream",
     "text": [
      "Path exists? True\n"
     ]
    }
   ],
   "source": [
    "import os\n",
    "dataset_path = \"./data/Entity Recognition in Resumes.json\"\n",
    "print(\"Path exists? {}\".format(os.path.exists(dataset_path)))"
   ]
  },
  {
   "cell_type": "markdown",
   "metadata": {},
   "source": [
    "So far so good? OK then let's load the dataset. The dataset is structured so that each line of text is a resume. \n",
    "You will do the following:\n",
    "1. using python's built-in \"open\" function, get a filehandle to the dataset (tip don't forget the file is utf8!)\n",
    "2. load the data into an array of resumes (each text line is one resume) \n",
    "3. use the print function to print how many resumes were loaded\n",
    "4. use the print function to output one of the resumes so we can see how the resumes look in raw text form \n"
   ]
  },
  {
   "cell_type": "code",
   "execution_count": 19,
   "metadata": {},
   "outputs": [
    {
     "name": "stdout",
     "output_type": "stream",
     "text": [
      "701\n",
      "Sample resume:\n",
      "{\"content\": \"Afreen Jamadar\\nActive member of IIIT Committee in Third year\\n\\nSangli, Maharashtra - Email me on Indeed: indeed.com/r/Afreen-Jamadar/8baf379b705e37c6\\n\\nI wish to use my knowledge, skills and conceptual understanding to create excellent team\\nenvironments and work consistently achieving organization objectives believes in taking initiative\\nand work to excellence in my work.\\n\\nWORK EXPERIENCE\\n\\nActive member of IIIT Committee in Third year\\n\\nCisco Networking -  Kanpur, Uttar Pradesh\\n\\norganized by Techkriti IIT Kanpur and Azure Skynet.\\nPERSONALLITY TRAITS:\\n• Quick learning ability\\n• hard working\\n\\nEDUCATION\\n\\nPG-DAC\\n\\nCDAC ACTS\\n\\n2017\\n\\nBachelor of Engg in Information Technology\\n\\nShivaji University Kolhapur -  Kolhapur, Maharashtra\\n\\n2016\\n\\nSKILLS\\n\\nDatabase (Less than 1 year), HTML (Less than 1 year), Linux. (Less than 1 year), MICROSOFT\\nACCESS (Less than 1 year), MICROSOFT WINDOWS (Less than 1 year)\\n\\nADDITIONAL INFORMATION\\n\\nTECHNICAL SKILLS:\\n\\n• Programming Languages: C, C++, Java, .net, php.\\n• Web Designing: HTML, XML\\n• Operating Systems: Windows […] Windows Server 2003, Linux.\\n• Database: MS Access, MS SQL Server 2008, Oracle 10g, MySql.\\n\\nhttps://www.indeed.com/r/Afreen-Jamadar/8baf379b705e37c6?isid=rex-download&ikw=download-top&co=IN\",\"annotation\":[{\"label\":[\"Email Address\"],\"points\":[{\"start\":1155,\"end\":1198,\"text\":\"indeed.com/r/Afreen-Jamadar/8baf379b705e37c6\"}]},{\"label\":[\"Links\"],\"points\":[{\"start\":1143,\"end\":1239,\"text\":\"https://www.indeed.com/r/Afreen-Jamadar/8baf379b705e37c6?isid=rex-download&ikw=download-top&co=IN\"}]},{\"label\":[\"Skills\"],\"points\":[{\"start\":743,\"end\":1140,\"text\":\"Database (Less than 1 year), HTML (Less than 1 year), Linux. (Less than 1 year), MICROSOFT\\nACCESS (Less than 1 year), MICROSOFT WINDOWS (Less than 1 year)\\n\\nADDITIONAL INFORMATION\\n\\nTECHNICAL SKILLS:\\n\\n• Programming Languages: C, C++, Java, .net, php.\\n• Web Designing: HTML, XML\\n• Operating Systems: Windows […] Windows Server 2003, Linux.\\n• Database: MS Access, MS SQL Server 2008, Oracle 10g, MySql.\"}]},{\"label\":[\"Graduation Year\"],\"points\":[{\"start\":729,\"end\":732,\"text\":\"2016\"}]},{\"label\":[\"College Name\"],\"points\":[{\"start\":675,\"end\":702,\"text\":\"Shivaji University Kolhapur \"}]},{\"label\":[\"Degree\"],\"points\":[{\"start\":631,\"end\":672,\"text\":\"Bachelor of Engg in Information Technology\"}]},{\"label\":[\"Graduation Year\"],\"points\":[{\"start\":625,\"end\":629,\"text\":\"2017\\n\"}]},{\"label\":[\"College Name\"],\"points\":[{\"start\":614,\"end\":622,\"text\":\"CDAC ACTS\"}]},{\"label\":[\"Degree\"],\"points\":[{\"start\":606,\"end\":611,\"text\":\"PG-DAC\"}]},{\"label\":[\"Companies worked at\"],\"points\":[{\"start\":438,\"end\":453,\"text\":\"Cisco Networking\"}]},{\"label\":[\"Email Address\"],\"points\":[{\"start\":104,\"end\":147,\"text\":\"indeed.com/r/Afreen-Jamadar/8baf379b705e37c6\"}]},{\"label\":[\"Location\"],\"points\":[{\"start\":62,\"end\":67,\"text\":\"Sangli\"}]},{\"label\":[\"Name\"],\"points\":[{\"start\":0,\"end\":13,\"text\":\"Afreen Jamadar\"}]}],\"extras\":null,\"metadata\":{\"first_done_at\":1527844872000,\"last_updated_at\":1537724086000,\"sec_taken\":0,\"last_updated_by\":\"BIQNZm4INNfvByMqkaVwVt6OZTv2\",\"status\":\"done\",\"evaluation\":\"CORRECT\"}}\n",
      "\n"
     ]
    }
   ],
   "source": [
    "## use the \"open\" function to get a filehandle. \n",
    "with open(dataset_path,encoding=\"utf8\") as f:\n",
    "    ## use the filehandle to read all lines into an array of text lines. \n",
    "    lines = f.readlines()\n",
    "    ## print how many lines were loaded\n",
    "    print(len(lines))\n",
    "    ## now print one resume/line to see how the resumes look in raw text form\n",
    "    print(\"Sample resume:\")\n",
    "    #TODO print sample resume\n",
    "    print(lines[0])"
   ]
  },
  {
   "cell_type": "markdown",
   "metadata": {},
   "source": [
    "#### Convert the dataset to json\n",
    "As we can see, the resumes are not in a convenient human-readable form, but are json dictionaries. We want to work with the resumes as python dictionaries and not as raw text, so we will convert the resumes from text to dictionaries. We will do the following:\n",
    "1. Import the json module\n",
    "2. Loop through all of the text lines and use the json 'loads' function to convert the line to a python dictionary. Tip - you can use a 'for' loop, or if you want to get fancy, a python 'list comprehension' to accomplish this. \n",
    "3. Select one of the converted resumes so that we can examine its structure.   \n"
   ]
  },
  {
   "cell_type": "code",
   "execution_count": 25,
   "metadata": {},
   "outputs": [],
   "source": [
    "## import json module to load json strings\n",
    "import json\n",
    "## using a for loop or a list comprehension, cycle through all lines (loaded above) and convert them to dictionaries \n",
    "## using json loads function. Make sure all converted resumes are stored in the 'all_resumes' array below  \n",
    "all_resumes = [json.loads(line) for line in lines]\n",
    "## select one resume to examine from the all_resumes list\n",
    "resume = all_resumes[42]"
   ]
  },
  {
   "cell_type": "markdown",
   "metadata": {},
   "source": [
    "##### Explore the resume data structure\n",
    "You should have one sample resume saved in the \"resume\" variable. Now we will examine the resume dictionary. Complete the code below to see the keys in the dictionary "
   ]
  },
  {
   "cell_type": "code",
   "execution_count": 31,
   "metadata": {},
   "outputs": [
    {
     "name": "stdout",
     "output_type": "stream",
     "text": [
      "keys and values in resume:\n",
      "dict_keys(['content', 'annotation', 'extras', 'metadata'])\n",
      "content Navas Koya\n",
      "Test Engineer\n",
      "\n",
      "Mangalore, Karnataka - Email me on Indeed: indeed.com/r/Navas-Koya/23c1e4e94779b465\n",
      "\n",
      "Willing to relocate to: Mangalore, Karnataka - Bangalore, Karnataka - Chennai, Tamil Nadu\n",
      "\n",
      "WORK EXPERIENCE\n",
      "\n",
      "System Engineer\n",
      "\n",
      "Infosys -\n",
      "\n",
      "August 2014 to Present\n",
      "\n",
      ".NET application Maintenance and do the code changes if required\n",
      "\n",
      "Test Engineer\n",
      "\n",
      "Infosys -\n",
      "\n",
      "June 2015 to February 2016\n",
      "\n",
      "PrProject 2:\n",
      "\n",
      "Title: RBS W&G Proving testing.\n",
      "Technology: Manual testing\n",
      "Role: Software Test Engineer\n",
      "\n",
      "Domain: Banking\n",
      "Description:\n",
      "\n",
      "Write test cases & descriptions. Review the entries. Upload and map the documents into\n",
      "HP QC. Execute the testing operations in TPROD mainframe. Upload the result in QC along with\n",
      "the proof.\n",
      "Roles and Responsibilities:\n",
      "•Prepared the Test Scenarios\n",
      "\n",
      "•Prepared and Executed Test Cases\n",
      "•Performed functional, Regression testing, Sanity testing.\n",
      "\n",
      "•Reviewed the Test Reports and Preparing Test Summary Report.\n",
      "•Upload Test cases to the QC.\n",
      "•Execute in TPROD Mainframe.\n",
      "•Defect Track and Report.\n",
      "\n",
      "Test Executive\n",
      "\n",
      "Infosys Limited -\n",
      "\n",
      "August 2014 to May 2015\n",
      "\n",
      "https://www.indeed.com/r/Navas-Koya/23c1e4e94779b465?isid=rex-download&ikw=download-top&co=IN\n",
      "\n",
      "\n",
      "Project 1:\n",
      "Title: CAWP (Compliance Automated Work Paper)\n",
      "\n",
      "Technology: Manual testing\n",
      "Role: Software Test Executive\n",
      "Domain: Banking\n",
      "Description:\n",
      "The Admin can create and maintain annual test plan, and users can only view and add\n",
      "details. Testers will get Business Requirement which explains the flows and Functional\n",
      "requirements which gives the full detail of the project.\n",
      "Roles and Responsibilities:\n",
      "\n",
      "•Prepared the Test Scenarios\n",
      "•Prepared and Executed Test Cases\n",
      "•Performed functional, Regression testing, Sanity testing.\n",
      "•Reviewed the Test Reports and Preparing Test Summary Report.\n",
      "•Defect Track and Report.\n",
      "\n",
      "EDUCATION\n",
      "\n",
      "Bachelor of Computer Applications\n",
      "\n",
      "Mangalore University, Mangalore\n",
      "\n",
      "June 2011 to April 2014\n",
      "\n",
      "SKILLS\n",
      "\n",
      "C# (Less than 1 year), .NET, SQL Server, Css, Html5\n",
      "\n",
      "ADDITIONAL INFORMATION\n",
      "\n",
      "Bachelor of computer application: with 74% from Milagres College, Kallianpur under\n",
      "Mangalore University, Karnataka.\n",
      "\n",
      "Navas Najeer Koya 2\n",
      "\n",
      "SKILL SET • ASP.NET, C# • QA tools\n",
      "\n",
      "• Coding and modularization • Excellent communication skills\n",
      "\n",
      "• VB, VB.net, ASP • Technical specifications creation\n",
      "\n",
      "• HTML • System backups\n",
      "\n",
      "• Sql server 2005, Oracle • System upgrades\n",
      "\n",
      "• Java/C/C++ • Excellent problem-solving abilities\n",
      "\n",
      "Navas Najeer Koya 3\n",
      "annotation [{'label': ['Skills'], 'points': [{'start': 2110, 'end': 2403, 'text': 'SKILL SET • ASP.NET, C# • QA tools\\n\\n• Coding and modularization • Excellent communication skills\\n\\n• VB, VB.net, ASP • Technical specifications creation\\n\\n• HTML • System backups\\n\\n• Sql server 2005, Oracle • System upgrades\\n\\n• Java/C/C++ • Excellent problem-solving abilities\\n\\nNavas Najeer Koya 3'}]}, {'label': ['Location'], 'points': [{'start': 2055, 'end': 2063, 'text': 'Mangalore'}]}, {'label': ['Skills'], 'points': [{'start': 1895, 'end': 1946, 'text': 'C# (Less than 1 year), .NET, SQL Server, Css, Html5\\n'}]}, {'label': ['Graduation Year'], 'points': [{'start': 1880, 'end': 1884, 'text': ' 2014'}]}, {'label': ['Location'], 'points': [{'start': 1851, 'end': 1859, 'text': 'Mangalore'}]}, {'label': ['Location'], 'points': [{'start': 1829, 'end': 1837, 'text': 'Mangalore'}]}, {'label': ['Degree'], 'points': [{'start': 1794, 'end': 1825, 'text': 'Bachelor of Computer Application'}]}, {'label': ['Graduation Year'], 'points': [{'start': 1056, 'end': 1060, 'text': ' 2014'}]}, {'label': ['Companies worked at'], 'points': [{'start': 1031, 'end': 1037, 'text': 'Infosys'}]}, {'label': ['Designation'], 'points': [{'start': 479, 'end': 492, 'text': 'Test Engineer\\n'}]}, {'label': ['Companies worked at'], 'points': [{'start': 352, 'end': 358, 'text': 'Infosys'}]}, {'label': ['Designation'], 'points': [{'start': 337, 'end': 350, 'text': 'Test Engineer\\n'}]}, {'label': ['Graduation Year'], 'points': [{'start': 253, 'end': 257, 'text': ' 2014'}]}, {'label': ['Companies worked at'], 'points': [{'start': 236, 'end': 242, 'text': 'Infosys'}]}, {'label': ['Designation'], 'points': [{'start': 219, 'end': 233, 'text': 'System Engineer'}]}, {'label': ['Location'], 'points': [{'start': 135, 'end': 143, 'text': 'Mangalore'}]}, {'label': ['Location'], 'points': [{'start': 26, 'end': 34, 'text': 'Mangalore'}]}, {'label': ['Designation'], 'points': [{'start': 11, 'end': 24, 'text': 'Test Engineer\\n'}]}, {'label': ['Name'], 'points': [{'start': 0, 'end': 9, 'text': 'Navas Koya'}]}]\n",
      "extras None\n",
      "metadata {'first_done_at': 1527844522000, 'last_updated_at': 1527844522000, 'sec_taken': 128, 'last_updated_by': 'jI67aE5hwwdh6l16bcfFVnpyREd2', 'status': 'done', 'evaluation': 'NONE'}\n"
     ]
    }
   ],
   "source": [
    "## explore keys in cv\n",
    "print(\"keys and values in resume:\")\n",
    "print(resume.keys())\n",
    "#print(resume.values())\n",
    "for i in resume:\n",
    "    print(i, resume[i])\n",
    "## TODO print out the keys and values for the sample resume"
   ]
  },
  {
   "cell_type": "markdown",
   "metadata": {},
   "source": [
    "##### Question: which key do you think points to the text content of the resume?\n",
    "key: content\n",
    "##### Question: which key do you think points to the list of entity annotations? \n",
    "key: annotation"
   ]
  },
  {
   "cell_type": "markdown",
   "metadata": {},
   "source": [
    "Based on your answers above, see if you were right by printing the text content and the entity list by completing and executing the code below"
   ]
  },
  {
   "cell_type": "code",
   "execution_count": 36,
   "metadata": {},
   "outputs": [
    {
     "name": "stdout",
     "output_type": "stream",
     "text": [
      "resume content: Navas Koya\n",
      "Test Engineer\n",
      "\n",
      "Mangalore, Karnataka - Email me on Indeed: indeed.com/r/Navas-Koya/23c1e4e94779b465\n",
      "\n",
      "Willing to relocate to: Mangalore, Karnataka - Bangalore, Karnataka - Chennai, Tamil Nadu\n",
      "\n",
      "WORK EXPERIENCE\n",
      "\n",
      "System Engineer\n",
      "\n",
      "Infosys -\n",
      "\n",
      "August 2014 to Present\n",
      "\n",
      ".NET application Maintenance and do the code changes if required\n",
      "\n",
      "Test Engineer\n",
      "\n",
      "Infosys -\n",
      "\n",
      "June 2015 to February 2016\n",
      "\n",
      "PrProject 2:\n",
      "\n",
      "Title: RBS W&G Proving testing.\n",
      "Technology: Manual testing\n",
      "Role: Software Test Engineer\n",
      "\n",
      "Domain: Banking\n",
      "Description:\n",
      "\n",
      "Write test cases & descriptions. Review the entries. Upload and map the documents into\n",
      "HP QC. Execute the testing operations in TPROD mainframe. Upload the result in QC along with\n",
      "the proof.\n",
      "Roles and Responsibilities:\n",
      "•Prepared the Test Scenarios\n",
      "\n",
      "•Prepared and Executed Test Cases\n",
      "•Performed functional, Regression testing, Sanity testing.\n",
      "\n",
      "•Reviewed the Test Reports and Preparing Test Summary Report.\n",
      "•Upload Test cases to the QC.\n",
      "•Execute in TPROD Mainframe.\n",
      "•Defect Track and Report.\n",
      "\n",
      "Test Executive\n",
      "\n",
      "Infosys Limited -\n",
      "\n",
      "August 2014 to May 2015\n",
      "\n",
      "https://www.indeed.com/r/Navas-Koya/23c1e4e94779b465?isid=rex-download&ikw=download-top&co=IN\n",
      "\n",
      "\n",
      "Project 1:\n",
      "Title: CAWP (Compliance Automated Work Paper)\n",
      "\n",
      "Technology: Manual testing\n",
      "Role: Software Test Executive\n",
      "Domain: Banking\n",
      "Description:\n",
      "The Admin can create and maintain annual test plan, and users can only view and add\n",
      "details. Testers will get Business Requirement which explains the flows and Functional\n",
      "requirements which gives the full detail of the project.\n",
      "Roles and Responsibilities:\n",
      "\n",
      "•Prepared the Test Scenarios\n",
      "•Prepared and Executed Test Cases\n",
      "•Performed functional, Regression testing, Sanity testing.\n",
      "•Reviewed the Test Reports and Preparing Test Summary Report.\n",
      "•Defect Track and Report.\n",
      "\n",
      "EDUCATION\n",
      "\n",
      "Bachelor of Computer Applications\n",
      "\n",
      "Mangalore University, Mangalore\n",
      "\n",
      "June 2011 to April 2014\n",
      "\n",
      "SKILLS\n",
      "\n",
      "C# (Less than 1 year), .NET, SQL Server, Css, Html5\n",
      "\n",
      "ADDITIONAL INFORMATION\n",
      "\n",
      "Bachelor of computer application: with 74% from Milagres College, Kallianpur under\n",
      "Mangalore University, Karnataka.\n",
      "\n",
      "Navas Najeer Koya 2\n",
      "\n",
      "SKILL SET • ASP.NET, C# • QA tools\n",
      "\n",
      "• Coding and modularization • Excellent communication skills\n",
      "\n",
      "• VB, VB.net, ASP • Technical specifications creation\n",
      "\n",
      "• HTML • System backups\n",
      "\n",
      "• Sql server 2005, Oracle • System upgrades\n",
      "\n",
      "• Java/C/C++ • Excellent problem-solving abilities\n",
      "\n",
      "Navas Najeer Koya 3\n",
      "resume entity list: [{'label': ['Skills'], 'points': [{'start': 2110, 'end': 2403, 'text': 'SKILL SET • ASP.NET, C# • QA tools\\n\\n• Coding and modularization • Excellent communication skills\\n\\n• VB, VB.net, ASP • Technical specifications creation\\n\\n• HTML • System backups\\n\\n• Sql server 2005, Oracle • System upgrades\\n\\n• Java/C/C++ • Excellent problem-solving abilities\\n\\nNavas Najeer Koya 3'}]}, {'label': ['Location'], 'points': [{'start': 2055, 'end': 2063, 'text': 'Mangalore'}]}, {'label': ['Skills'], 'points': [{'start': 1895, 'end': 1946, 'text': 'C# (Less than 1 year), .NET, SQL Server, Css, Html5\\n'}]}, {'label': ['Graduation Year'], 'points': [{'start': 1880, 'end': 1884, 'text': ' 2014'}]}, {'label': ['Location'], 'points': [{'start': 1851, 'end': 1859, 'text': 'Mangalore'}]}, {'label': ['Location'], 'points': [{'start': 1829, 'end': 1837, 'text': 'Mangalore'}]}, {'label': ['Degree'], 'points': [{'start': 1794, 'end': 1825, 'text': 'Bachelor of Computer Application'}]}, {'label': ['Graduation Year'], 'points': [{'start': 1056, 'end': 1060, 'text': ' 2014'}]}, {'label': ['Companies worked at'], 'points': [{'start': 1031, 'end': 1037, 'text': 'Infosys'}]}, {'label': ['Designation'], 'points': [{'start': 479, 'end': 492, 'text': 'Test Engineer\\n'}]}, {'label': ['Companies worked at'], 'points': [{'start': 352, 'end': 358, 'text': 'Infosys'}]}, {'label': ['Designation'], 'points': [{'start': 337, 'end': 350, 'text': 'Test Engineer\\n'}]}, {'label': ['Graduation Year'], 'points': [{'start': 253, 'end': 257, 'text': ' 2014'}]}, {'label': ['Companies worked at'], 'points': [{'start': 236, 'end': 242, 'text': 'Infosys'}]}, {'label': ['Designation'], 'points': [{'start': 219, 'end': 233, 'text': 'System Engineer'}]}, {'label': ['Location'], 'points': [{'start': 135, 'end': 143, 'text': 'Mangalore'}]}, {'label': ['Location'], 'points': [{'start': 26, 'end': 34, 'text': 'Mangalore'}]}, {'label': ['Designation'], 'points': [{'start': 11, 'end': 24, 'text': 'Test Engineer\\n'}]}, {'label': ['Name'], 'points': [{'start': 0, 'end': 9, 'text': 'Navas Koya'}]}]\n"
     ]
    }
   ],
   "source": [
    "## TODO print the resume text\n",
    "print(\"resume content:\", resume['content'])\n",
    "## TODO print the resume's list of entity annotations\n",
    "print(\"resume entity list:\", resume['annotation'])"
   ]
  },
  {
   "cell_type": "markdown",
   "metadata": {},
   "source": [
    "##### Explore the list of entity labels\n",
    "The entity list is a list of dictionaries, we want to explore this list\n",
    "1. Cycle through the entities in the list. You can use a 'for' loop for this\n",
    "2. For each entity - which will be a dictionary - print out each key and each value for the key"
   ]
  },
  {
   "cell_type": "code",
   "execution_count": 40,
   "metadata": {},
   "outputs": [
    {
     "name": "stdout",
     "output_type": "stream",
     "text": [
      "Key: 0 Value:label\n",
      "Key: 1 Value:points\n",
      "Key: 0 Value:label\n",
      "Key: 1 Value:points\n",
      "Key: 0 Value:label\n",
      "Key: 1 Value:points\n",
      "Key: 0 Value:label\n",
      "Key: 1 Value:points\n",
      "Key: 0 Value:label\n",
      "Key: 1 Value:points\n",
      "Key: 0 Value:label\n",
      "Key: 1 Value:points\n",
      "Key: 0 Value:label\n",
      "Key: 1 Value:points\n",
      "Key: 0 Value:label\n",
      "Key: 1 Value:points\n",
      "Key: 0 Value:label\n",
      "Key: 1 Value:points\n",
      "Key: 0 Value:label\n",
      "Key: 1 Value:points\n",
      "Key: 0 Value:label\n",
      "Key: 1 Value:points\n",
      "Key: 0 Value:label\n",
      "Key: 1 Value:points\n",
      "Key: 0 Value:label\n",
      "Key: 1 Value:points\n",
      "Key: 0 Value:label\n",
      "Key: 1 Value:points\n",
      "Key: 0 Value:label\n",
      "Key: 1 Value:points\n",
      "Key: 0 Value:label\n",
      "Key: 1 Value:points\n",
      "Key: 0 Value:label\n",
      "Key: 1 Value:points\n",
      "Key: 0 Value:label\n",
      "Key: 1 Value:points\n",
      "Key: 0 Value:label\n",
      "Key: 1 Value:points\n"
     ]
    }
   ],
   "source": [
    "## explore entity list\n",
    "##TODO print out each key and each value for each entity in the entities list\n",
    "for entity in resume['annotation']:\n",
    "    for k, v in enumerate(entity):\n",
    "        print(\"Key: {} Value:{}\".format(k,v))"
   ]
  },
  {
   "cell_type": "markdown",
   "metadata": {},
   "source": [
    "##### Question: What keys do the entity entries have? What is the datatype of the values of these keys?\n",
    "0, 1\n",
    "##### Question: What do these keys and values mean? (think of their significance as entity labels)\n",
    "Key 0: label<br>\n",
    "Key 1: Points (makiert position im Text und Inhalt)"
   ]
  },
  {
   "cell_type": "markdown",
   "metadata": {},
   "source": [
    "##### Convert  data to \"spacy\" offset format\n",
    "Before we go any further, we need to convert the data into a slightly more compact format. This format is the format we will be using to train our first models in the next part of the challenge. Here we will do the following:\n",
    "1. Use the provided data conversion function\n",
    "2. Convert the data with that function, storing the results in a variable\n",
    "3. Inspect the converted data"
   ]
  },
  {
   "cell_type": "code",
   "execution_count": 53,
   "metadata": {},
   "outputs": [
    {
     "name": "stdout",
     "output_type": "stream",
     "text": [
      "701\n",
      "<class 'type'>\n"
     ]
    }
   ],
   "source": [
    "## data conversion method\n",
    "def convert_data(data):\n",
    "    \"\"\"\n",
    "    Creates NER training data in Spacy format from JSON dataset\n",
    "    Outputs the Spacy training data which can be used for Spacy training.\n",
    "    \"\"\"\n",
    "    text = data['content']\n",
    "    entities = []\n",
    "    if data['annotation'] is not None:\n",
    "        for annotation in data['annotation']:\n",
    "            # only a single point in text annotation.\n",
    "            point = annotation['points'][0]\n",
    "            labels = annotation['label']\n",
    "            # handle both list of labels or a single label.\n",
    "            if not isinstance(labels, list):\n",
    "                labels = [labels]\n",
    "            for label in labels:\n",
    "                # dataturks indices are both inclusive [start, end] but spacy is not [start, end)\n",
    "                entities.append((point['start'], point['end'] + 1, label))\n",
    "    return (text, {\"entities\": entities})\n",
    "   \n",
    "## TODO using a loop or list comprehension, convert each resume in all_resumes using the convert function above, storing the result\n",
    "converted_resumes = [convert_data(resume) for resume in all_resumes]\n",
    "## TODO print the number of resumes in converted resumes \n",
    "print(len(converted_resumes))\n",
    "print(type)"
   ]
  },
  {
   "cell_type": "markdown",
   "metadata": {},
   "source": [
    "##### Question: how is the converted data different than the original data? How is it the same? \n",
    "*Answer here*"
   ]
  },
  {
   "cell_type": "markdown",
   "metadata": {},
   "source": [
    "##### filter out resumes without annotations\n",
    "A few of the resumes have an empty entity list. We want to filter these resumes out of our data before continuing. We will do the following:\n",
    "1. cycle through all resumes using for loop or list comprehension\n",
    "2. for each resume, if the resume has no labled entities, ignore it. Otherwise save it to new resume list "
   ]
  },
  {
   "cell_type": "code",
   "execution_count": 50,
   "metadata": {},
   "outputs": [
    {
     "ename": "SyntaxError",
     "evalue": "invalid syntax (<ipython-input-50-188e5b74e9f3>, line 3)",
     "output_type": "error",
     "traceback": [
      "\u001b[0;36m  File \u001b[0;32m\"<ipython-input-50-188e5b74e9f3>\"\u001b[0;36m, line \u001b[0;32m3\u001b[0m\n\u001b[0;31m    converted_resumes = [for i in converted_resumes if i!='' ]\u001b[0m\n\u001b[0m                           ^\u001b[0m\n\u001b[0;31mSyntaxError\u001b[0m\u001b[0;31m:\u001b[0m invalid syntax\n"
     ]
    }
   ],
   "source": [
    "## TODO filter out resumes where resume entities list is None (you can do this in a one-line list comprehension)\n",
    "## sove to converted_resumes variable\n",
    "converted_resumes = [for i in converted_resumes if i!='' ] \n",
    "## TODO print length of new filtered converted_resumes.  \n",
    "print()"
   ]
  },
  {
   "cell_type": "markdown",
   "metadata": {},
   "source": [
    "##### Print all entities for one converted resume\n",
    "The converted data also has an entity list. You should be able to examine this using similar techniques we have used above on the converted data. In the next code block you will write code that will print all of the entities for one resume. TIP each entity entry in the 'entities' list consists of a start index of the entity in the resume text, an end index, and the entity label. We will do the following:\n",
    "1. Store one converted resume in the 'converted_resume' variable\n",
    "2. Find the entity list in the converted_resume\n",
    "3. Cycle through the entities, and - using the start and end index - print the label of the entity and the value of the entity. This will be the text substring pointed to by the start and end index"
   ]
  },
  {
   "cell_type": "code",
   "execution_count": null,
   "metadata": {},
   "outputs": [],
   "source": [
    "## store one resume in the variable\n",
    "converted_resume = None\n",
    "## find text content and store in variable\n",
    "text = None\n",
    "## find the entities list and store in variable\n",
    "entities_list = None\n",
    "## TODO for each entity, print the label, and the text (text content substring pointed to by start and end index)\n",
    "print()"
   ]
  },
  {
   "cell_type": "markdown",
   "metadata": {},
   "source": [
    "##### Question: What are some of the entity labels you see? Are there any entity values that seem surprising or particularly interesting? \n",
    "*Answer here*"
   ]
  },
  {
   "cell_type": "markdown",
   "metadata": {},
   "source": [
    "##### Collect unique labels of all entities in dataset\n",
    "Now we are interested in finding out all of the (unique) entity labels which exist in our dataset. Complete and execute the code below to do this."
   ]
  },
  {
   "cell_type": "code",
   "execution_count": null,
   "metadata": {},
   "outputs": [],
   "source": [
    "## collect names of all entities in complete resume dataset\n",
    "all_labels = list()\n",
    "for res in converted_resumes:\n",
    "    ## entity list of res\n",
    "    entity_list = None\n",
    "    ## TODO extend all_labels with labels of entities \n",
    "    ##all_labels.           \n",
    "## TODO all_labels is not yet unique. Make the list a set of unique values\n",
    "unique_labels = None\n",
    "## Print unique entity labels\n",
    "print(\"Entity labels: \",unique_labels)"
   ]
  },
  {
   "cell_type": "markdown",
   "metadata": {},
   "source": [
    "Now we see all entity labels in our dataset. Do some of them seem particularly interesting to you? "
   ]
  },
  {
   "cell_type": "markdown",
   "metadata": {},
   "source": [
    "Choose up to 3 Entities from the list that you would like to use for training a named entity recognition model. \n",
    "##### Question: which entities did you choose? \n",
    "*Answer here*"
   ]
  },
  {
   "cell_type": "markdown",
   "metadata": {},
   "source": [
    "##### Validate entities\n",
    "Now we need to check that there is adequate training data for the entities you have chosen. "
   ]
  },
  {
   "cell_type": "code",
   "execution_count": null,
   "metadata": {},
   "outputs": [],
   "source": [
    "## TODO store entity label names for the entities you want to work with in an array \n",
    "chosen_entity_label = None\n",
    "## for each chosen entity label, count how many documents have a labeled entity for that label, and how many labeled entities total there are \n",
    "## for that entity\n",
    "for chosen in chosen_entity_label:\n",
    "    found_docs_with_entity = 0\n",
    "    entity_count = 0\n",
    "    for resume in converted_resumes:\n",
    "        entity_list = resume[1][\"entities\"]\n",
    "        _,_,labels = zip(*entity_list)\n",
    "        if chosen in labels:\n",
    "            found_docs_with_entity+=1\n",
    "            entity_count+=len([l for l in labels if l == chosen])\n",
    "    print(\"Docs with {}: {}\".format(chosen,found_docs_with_entity))\n",
    "    print(\"Total count of {}: {}\".format(chosen,entity_count))"
   ]
  },
  {
   "cell_type": "markdown",
   "metadata": {},
   "source": [
    "#####  Question: Is adequate training data available for the entities you have chosen? (there should be at least several hundered examples total of each entity)\n",
    "*Answer here*"
   ]
  },
  {
   "cell_type": "markdown",
   "metadata": {},
   "source": [
    "##### Save converted data for later use\n",
    "We are almost done with the first part of the challenge! One more detail. We need to save the \"converted_resumes\" list so we can load it in the next notebook. We will do the following:\n",
    "1. Store the location we want to save the data to in the 'converted_resumes_path' variable\n",
    "2. Using python's 'open' function and the 'json' module's 'dump' function, save the data to disk. Make sure to create missing directories (if applicable) using python's \"os.makedirs\" function. Save the file with a \".json\" file extension\n",
    "3. Check the filesystem if the file exists and is complete"
   ]
  },
  {
   "cell_type": "code",
   "execution_count": null,
   "metadata": {},
   "outputs": [],
   "source": [
    "converted_resumes_path = \"../dataset/converted_resumes.json\"\n",
    "##TODO save converted resumes to path using \"open\" and json's \"dump\" function. "
   ]
  },
  {
   "cell_type": "markdown",
   "metadata": {},
   "source": [
    "### Congratulations!\n",
    "We are done with part one. Now we will go on to train our own NER Models with the dataset and the entities we have chosen. "
   ]
  },
  {
   "cell_type": "code",
   "execution_count": null,
   "metadata": {},
   "outputs": [],
   "source": []
  }
 ],
 "metadata": {
  "kernelspec": {
   "display_name": "Python 3",
   "language": "python",
   "name": "python3"
  },
  "language_info": {
   "codemirror_mode": {
    "name": "ipython",
    "version": 3
   },
   "file_extension": ".py",
   "mimetype": "text/x-python",
   "name": "python",
   "nbconvert_exporter": "python",
   "pygments_lexer": "ipython3",
   "version": "3.7.3"
  }
 },
 "nbformat": 4,
 "nbformat_minor": 2
}
